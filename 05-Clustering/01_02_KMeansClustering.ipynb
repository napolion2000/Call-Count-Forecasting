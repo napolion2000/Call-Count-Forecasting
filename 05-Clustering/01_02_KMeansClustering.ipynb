{
 "cells": [
  {
   "cell_type": "code",
   "execution_count": 1,
   "metadata": {},
   "outputs": [],
   "source": [
    "import pandas as pd\n",
    "import numpy as np\n",
    "import matplotlib.pyplot as plt\n",
    "from scipy.signal import periodogram\n",
    "import seaborn as sns\n",
    "from warnings import filterwarnings\n",
    "filterwarnings(\"ignore\")\n",
    "from sklearn.linear_model import LinearRegression\n",
    "from statsmodels.tsa.deterministic import CalendarFourier, DeterministicProcess\n",
    "import matplotlib\n",
    "matplotlib.rcParams['figure.figsize'] = (10,5)\n",
    "\n",
    "from scipy import stats"
   ]
  },
  {
   "cell_type": "code",
   "execution_count": 2,
   "metadata": {},
   "outputs": [],
   "source": [
    "path = 'C:/Users/manal/Desktop/Thesis/Manali-CallsPrediction/ml-generic-thesis-project-structure-main/01-raw-data'\n",
    "data_df = pd.read_csv(path+'/Rawdata_2017-19.csv', sep=',', header=0)\n",
    "#data_df.reset_index(inplace=True)"
   ]
  },
  {
   "cell_type": "code",
   "execution_count": 3,
   "metadata": {},
   "outputs": [],
   "source": [
    "data_df['date'] = pd.DatetimeIndex(data_df['date'])"
   ]
  },
  {
   "attachments": {},
   "cell_type": "markdown",
   "metadata": {},
   "source": [
    "# 1. Data & Packages"
   ]
  },
  {
   "cell_type": "code",
   "execution_count": 5,
   "metadata": {},
   "outputs": [
    {
     "data": {
      "text/html": [
       "<div>\n",
       "<style scoped>\n",
       "    .dataframe tbody tr th:only-of-type {\n",
       "        vertical-align: middle;\n",
       "    }\n",
       "\n",
       "    .dataframe tbody tr th {\n",
       "        vertical-align: top;\n",
       "    }\n",
       "\n",
       "    .dataframe thead th {\n",
       "        text-align: right;\n",
       "    }\n",
       "</style>\n",
       "<table border=\"1\" class=\"dataframe\">\n",
       "  <thead>\n",
       "    <tr style=\"text-align: right;\">\n",
       "      <th></th>\n",
       "      <th>Unnamed: 0.1</th>\n",
       "      <th>unique_id</th>\n",
       "      <th>Unnamed: 0</th>\n",
       "      <th>date</th>\n",
       "      <th>time</th>\n",
       "      <th>date_time</th>\n",
       "      <th>agency</th>\n",
       "      <th>agency_name</th>\n",
       "      <th>inquiry_name</th>\n",
       "      <th>brief_description</th>\n",
       "      <th>call_resolution</th>\n",
       "      <th>inquiry_with_description</th>\n",
       "    </tr>\n",
       "  </thead>\n",
       "  <tbody>\n",
       "    <tr>\n",
       "      <th>0</th>\n",
       "      <td>947</td>\n",
       "      <td>120986760</td>\n",
       "      <td>947</td>\n",
       "      <td>2017-01-01</td>\n",
       "      <td>12:00:05 AM</td>\n",
       "      <td>2017-01-01T00:00:05.000</td>\n",
       "      <td>3-1-1</td>\n",
       "      <td>3-1-1 Call Center</td>\n",
       "      <td>Language Assistance</td>\n",
       "      <td>Connect to Language Line.</td>\n",
       "      <td>Transfer to City Agency</td>\n",
       "      <td>Language Assistance Connect to Language Line.</td>\n",
       "    </tr>\n",
       "    <tr>\n",
       "      <th>1</th>\n",
       "      <td>850</td>\n",
       "      <td>120985098</td>\n",
       "      <td>850</td>\n",
       "      <td>2017-01-01</td>\n",
       "      <td>12:01:12 AM</td>\n",
       "      <td>2017-01-01T00:01:12.000</td>\n",
       "      <td>NYPD</td>\n",
       "      <td>New York City Police Department</td>\n",
       "      <td>Vehicle Blocking Driveway Complaint</td>\n",
       "      <td>Report a vehicle that is blocking a driveway.</td>\n",
       "      <td>CSMS SR</td>\n",
       "      <td>Vehicle Blocking Driveway Complaint Report a v...</td>\n",
       "    </tr>\n",
       "  </tbody>\n",
       "</table>\n",
       "</div>"
      ],
      "text/plain": [
       "   Unnamed: 0.1  unique_id  Unnamed: 0       date         time  \\\n",
       "0           947  120986760         947 2017-01-01  12:00:05 AM   \n",
       "1           850  120985098         850 2017-01-01  12:01:12 AM   \n",
       "\n",
       "                 date_time agency                      agency_name  \\\n",
       "0  2017-01-01T00:00:05.000  3-1-1                3-1-1 Call Center   \n",
       "1  2017-01-01T00:01:12.000   NYPD  New York City Police Department   \n",
       "\n",
       "                          inquiry_name  \\\n",
       "0                  Language Assistance   \n",
       "1  Vehicle Blocking Driveway Complaint   \n",
       "\n",
       "                               brief_description          call_resolution  \\\n",
       "0                      Connect to Language Line.  Transfer to City Agency   \n",
       "1  Report a vehicle that is blocking a driveway.                  CSMS SR   \n",
       "\n",
       "                            inquiry_with_description  \n",
       "0      Language Assistance Connect to Language Line.  \n",
       "1  Vehicle Blocking Driveway Complaint Report a v...  "
      ]
     },
     "execution_count": 5,
     "metadata": {},
     "output_type": "execute_result"
    }
   ],
   "source": [
    "data_df[\"inquiry_with_description\"] = data_df[\"inquiry_name\"] + ' ' + data_df[\"brief_description\"]\n",
    "data_df.head(2)"
   ]
  },
  {
   "cell_type": "code",
   "execution_count": 6,
   "metadata": {},
   "outputs": [
    {
     "data": {
      "text/html": [
       "<div>\n",
       "<style scoped>\n",
       "    .dataframe tbody tr th:only-of-type {\n",
       "        vertical-align: middle;\n",
       "    }\n",
       "\n",
       "    .dataframe tbody tr th {\n",
       "        vertical-align: top;\n",
       "    }\n",
       "\n",
       "    .dataframe thead th {\n",
       "        text-align: right;\n",
       "    }\n",
       "</style>\n",
       "<table border=\"1\" class=\"dataframe\">\n",
       "  <thead>\n",
       "    <tr style=\"text-align: right;\">\n",
       "      <th></th>\n",
       "      <th>Inquiry_names</th>\n",
       "    </tr>\n",
       "  </thead>\n",
       "  <tbody>\n",
       "    <tr>\n",
       "      <th>0</th>\n",
       "      <td>Language Assistance Connect to Language Line.</td>\n",
       "    </tr>\n",
       "    <tr>\n",
       "      <th>1</th>\n",
       "      <td>Vehicle Blocking Driveway Complaint Report a v...</td>\n",
       "    </tr>\n",
       "    <tr>\n",
       "      <th>2</th>\n",
       "      <td>Apartment Maintenance Complaint Report a maint...</td>\n",
       "    </tr>\n",
       "    <tr>\n",
       "      <th>3</th>\n",
       "      <td>Noise from Neighbor Report a noisy neighbor.</td>\n",
       "    </tr>\n",
       "    <tr>\n",
       "      <th>4</th>\n",
       "      <td>Find a Police Precinct or PSA by Name Find a s...</td>\n",
       "    </tr>\n",
       "    <tr>\n",
       "      <th>...</th>\n",
       "      <td>...</td>\n",
       "    </tr>\n",
       "    <tr>\n",
       "      <th>6801</th>\n",
       "      <td>Taxi Complaint Report a problem with a taxi dr...</td>\n",
       "    </tr>\n",
       "    <tr>\n",
       "      <th>6802</th>\n",
       "      <td>New Year's Day Wednesday, January 1st is New Y...</td>\n",
       "    </tr>\n",
       "    <tr>\n",
       "      <th>6803</th>\n",
       "      <td>Fuel Truck Inspection Get an inspection of fue...</td>\n",
       "    </tr>\n",
       "    <tr>\n",
       "      <th>6804</th>\n",
       "      <td>Home Repair Assistance for Seniors Learn about...</td>\n",
       "    </tr>\n",
       "    <tr>\n",
       "      <th>6805</th>\n",
       "      <td>New Year's Eve Celebration in Times Square New...</td>\n",
       "    </tr>\n",
       "  </tbody>\n",
       "</table>\n",
       "<p>6806 rows × 1 columns</p>\n",
       "</div>"
      ],
      "text/plain": [
       "                                          Inquiry_names\n",
       "0         Language Assistance Connect to Language Line.\n",
       "1     Vehicle Blocking Driveway Complaint Report a v...\n",
       "2     Apartment Maintenance Complaint Report a maint...\n",
       "3          Noise from Neighbor Report a noisy neighbor.\n",
       "4     Find a Police Precinct or PSA by Name Find a s...\n",
       "...                                                 ...\n",
       "6801  Taxi Complaint Report a problem with a taxi dr...\n",
       "6802  New Year's Day Wednesday, January 1st is New Y...\n",
       "6803  Fuel Truck Inspection Get an inspection of fue...\n",
       "6804  Home Repair Assistance for Seniors Learn about...\n",
       "6805  New Year's Eve Celebration in Times Square New...\n",
       "\n",
       "[6806 rows x 1 columns]"
      ]
     },
     "execution_count": 6,
     "metadata": {},
     "output_type": "execute_result"
    }
   ],
   "source": [
    "unique_inq_df = pd.DataFrame(data_df['inquiry_with_description'].unique()).rename(columns={0:'Inquiry_names'})\n",
    "unique_inq_df"
   ]
  },
  {
   "attachments": {},
   "cell_type": "markdown",
   "metadata": {},
   "source": [
    "# 2. Embeddings"
   ]
  },
  {
   "cell_type": "code",
   "execution_count": 7,
   "metadata": {},
   "outputs": [],
   "source": [
    "#%pip install sentence-transformers"
   ]
  },
  {
   "cell_type": "code",
   "execution_count": 8,
   "metadata": {},
   "outputs": [],
   "source": [
    "from sentence_transformers import SentenceTransformer"
   ]
  },
  {
   "cell_type": "code",
   "execution_count": 9,
   "metadata": {},
   "outputs": [
    {
     "name": "stderr",
     "output_type": "stream",
     "text": [
      "Batches: 100%|██████████| 213/213 [00:50<00:00,  4.25it/s]\n"
     ]
    }
   ],
   "source": [
    "model4 = SentenceTransformer('all-MiniLM-L6-v2')\n",
    "embeddings4 = model4.encode(unique_inq_df['Inquiry_names'], show_progress_bar=True)"
   ]
  },
  {
   "cell_type": "code",
   "execution_count": 10,
   "metadata": {},
   "outputs": [],
   "source": [
    "import pickle\n",
    "# Save the embeddings to a file\n",
    "path = 'C:/Users/manal/Desktop/Thesis/Manali-CallsPrediction/ml-generic-thesis-project-structure-main/05-embeddings'\n",
    "\n",
    "with open(path+\"/embeddings_inq_2017-2019.pickle\", \"wb\") as file:\n",
    "    pickle.dump(embeddings4, file)"
   ]
  },
  {
   "cell_type": "code",
   "execution_count": 11,
   "metadata": {},
   "outputs": [],
   "source": [
    "import pickle\n",
    "path = 'C:/Users/manal/Desktop/Thesis/Manali-CallsPrediction/ml-generic-thesis-project-structure-main/05-embeddings'\n",
    "\n",
    "# Load the embeddings from the file\n",
    "with open(path+\"/embeddings_inq_2017-2019.pickle\", \"rb\") as file:\n",
    "    embeddings4 = pickle.load(file)"
   ]
  },
  {
   "cell_type": "code",
   "execution_count": 12,
   "metadata": {},
   "outputs": [
    {
     "data": {
      "text/plain": [
       "(6806, 384)"
      ]
     },
     "execution_count": 12,
     "metadata": {},
     "output_type": "execute_result"
    }
   ],
   "source": [
    "embeddings4.shape"
   ]
  },
  {
   "cell_type": "code",
   "execution_count": 13,
   "metadata": {},
   "outputs": [
    {
     "data": {
      "text/plain": [
       "(6806, 1)"
      ]
     },
     "execution_count": 13,
     "metadata": {},
     "output_type": "execute_result"
    }
   ],
   "source": [
    "unique_inq_df.shape"
   ]
  },
  {
   "attachments": {},
   "cell_type": "markdown",
   "metadata": {},
   "source": [
    "# 3. Clustering"
   ]
  },
  {
   "attachments": {},
   "cell_type": "markdown",
   "metadata": {},
   "source": [
    "Finding optimum number of clusters"
   ]
  },
  {
   "cell_type": "code",
   "execution_count": 14,
   "metadata": {},
   "outputs": [],
   "source": [
    "from sklearn.cluster import KMeans\n",
    "#%pip install yellowbrick"
   ]
  },
  {
   "cell_type": "code",
   "execution_count": 15,
   "metadata": {},
   "outputs": [
    {
     "data": {
      "image/png": "[encoded data removed]",
      "text/plain": [
       "<Figure size 800x550 with 2 Axes>"
      ]
     },
     "metadata": {},
     "output_type": "display_data"
    },
    {
     "data": {
      "text/plain": [
       "<AxesSubplot: title={'center': 'Distortion Score Elbow for KMeans Clustering'}, xlabel='k', ylabel='distortion score'>"
      ]
     },
     "execution_count": 15,
     "metadata": {},
     "output_type": "execute_result"
    }
   ],
   "source": [
    "# Elbow Method for K means\n",
    "# Import ElbowVisualizer\n",
    "from yellowbrick.cluster import KElbowVisualizer\n",
    "model = KMeans()\n",
    "# k is range of number of clusters.\n",
    "visualizer = KElbowVisualizer(model, k=(2,250), timings= True)\n",
    "visualizer.fit(embeddings4)        # Fit data to visualizer\n",
    "visualizer.show()        # Finalize and render figure"
   ]
  },
  {
   "attachments": {},
   "cell_type": "markdown",
   "metadata": {},
   "source": [
    "Plotting clusters with UMAP dimensionailty reduction"
   ]
  },
  {
   "cell_type": "code",
   "execution_count": 16,
   "metadata": {},
   "outputs": [],
   "source": [
    "#%pip install umap-learn"
   ]
  },
  {
   "cell_type": "code",
   "execution_count": 17,
   "metadata": {},
   "outputs": [],
   "source": [
    "import matplotlib.pyplot as plt\n",
    "import umap\n",
    "umap_embeddings = umap.UMAP(\n",
    "           n_components=2,\n",
    "           min_dist=0.0).fit_transform(embeddings4)"
   ]
  },
  {
   "cell_type": "code",
   "execution_count": 18,
   "metadata": {},
   "outputs": [
    {
     "data": {
      "text/plain": [
       "(6806, 2)"
      ]
     },
     "execution_count": 18,
     "metadata": {},
     "output_type": "execute_result"
    }
   ],
   "source": [
    "umap_embeddings.shape"
   ]
  },
  {
   "cell_type": "code",
   "execution_count": null,
   "metadata": {},
   "outputs": [
    {
     "data": {
      "image/png": "[encoded data removed]",
      "text/plain": [
       "<Figure size 1000x500 with 2 Axes>"
      ]
     },
     "metadata": {},
     "output_type": "display_data"
    },
    {
     "data": {
      "text/plain": [
       "<AxesSubplot: title={'center': 'Distortion Score Elbow for KMeans Clustering'}, xlabel='k', ylabel='distortion score'>"
      ]
     },
     "execution_count": 67,
     "metadata": {},
     "output_type": "execute_result"
    }
   ],
   "source": [
    "# Elbow Method for K means\n",
    "# Import ElbowVisualizer\n",
    "from yellowbrick.cluster import KElbowVisualizer\n",
    "model = KMeans()\n",
    "# k is range of number of clusters.\n",
    "visualizer = KElbowVisualizer(model, k=(2,100), timings= True)\n",
    "visualizer.fit(umap_embeddings)        # Fit data to visualizer\n",
    "visualizer.show()        # Finalize and render figure"
   ]
  },
  {
   "cell_type": "markdown",
   "metadata": {},
   "source": [
    "The elbow method involves plotting the distortion score for different values of K, and selecting the value of K where the decrease in the distortion score starts to level off, forming an elbow shape. The idea is to choose a value of K that achieves a relatively low distortion score while avoiding overfitting (i.e., having too many clusters)."
   ]
  },
  {
   "attachments": {},
   "cell_type": "markdown",
   "metadata": {},
   "source": [
    "### Assigning clusters"
   ]
  },
  {
   "cell_type": "code",
   "execution_count": null,
   "metadata": {},
   "outputs": [
    {
     "data": {
      "text/plain": [
       "(6806, 2)"
      ]
     },
     "execution_count": 68,
     "metadata": {},
     "output_type": "execute_result"
    }
   ],
   "source": [
    "umap_embeddings.shape"
   ]
  },
  {
   "cell_type": "code",
   "execution_count": 21,
   "metadata": {},
   "outputs": [
    {
     "data": {
      "text/plain": [
       "7     865\n",
       "9     625\n",
       "11    589\n",
       "5     573\n",
       "3     564\n",
       "2     500\n",
       "4     477\n",
       "6     469\n",
       "1     436\n",
       "0     347\n",
       "14    326\n",
       "12    304\n",
       "15    293\n",
       "8     218\n",
       "13    186\n",
       "10     34\n",
       "dtype: int64"
      ]
     },
     "execution_count": 21,
     "metadata": {},
     "output_type": "execute_result"
    }
   ],
   "source": [
    "from sklearn.cluster import KMeans\n",
    "n_clusters=16\n",
    "kmeans = KMeans(n_clusters=n_clusters,random_state=0).fit(umap_embeddings)\n",
    "# Obtain the cluster labels for each embedding\n",
    "cluster_labels = kmeans.predict(umap_embeddings)\n",
    "cls_dist=pd.Series(kmeans.labels_).value_counts()\n",
    "cls_dist"
   ]
  },
  {
   "cell_type": "code",
   "execution_count": 24,
   "metadata": {},
   "outputs": [
    {
     "data": {
      "text/html": [
       "<div>\n",
       "<style scoped>\n",
       "    .dataframe tbody tr th:only-of-type {\n",
       "        vertical-align: middle;\n",
       "    }\n",
       "\n",
       "    .dataframe tbody tr th {\n",
       "        vertical-align: top;\n",
       "    }\n",
       "\n",
       "    .dataframe thead th {\n",
       "        text-align: right;\n",
       "    }\n",
       "</style>\n",
       "<table border=\"1\" class=\"dataframe\">\n",
       "  <thead>\n",
       "    <tr style=\"text-align: right;\">\n",
       "      <th></th>\n",
       "      <th>Unnamed: 0.1</th>\n",
       "      <th>unique_id</th>\n",
       "      <th>Unnamed: 0</th>\n",
       "      <th>date</th>\n",
       "      <th>time</th>\n",
       "      <th>date_time</th>\n",
       "      <th>agency</th>\n",
       "      <th>agency_name</th>\n",
       "      <th>inquiry_name</th>\n",
       "      <th>brief_description</th>\n",
       "      <th>call_resolution</th>\n",
       "      <th>inquiry_with_description</th>\n",
       "    </tr>\n",
       "  </thead>\n",
       "  <tbody>\n",
       "    <tr>\n",
       "      <th>0</th>\n",
       "      <td>947</td>\n",
       "      <td>120986760</td>\n",
       "      <td>947</td>\n",
       "      <td>2017-01-01</td>\n",
       "      <td>12:00:05 AM</td>\n",
       "      <td>2017-01-01T00:00:05.000</td>\n",
       "      <td>3-1-1</td>\n",
       "      <td>3-1-1 Call Center</td>\n",
       "      <td>Language Assistance</td>\n",
       "      <td>Connect to Language Line.</td>\n",
       "      <td>Transfer to City Agency</td>\n",
       "      <td>Language Assistance Connect to Language Line.</td>\n",
       "    </tr>\n",
       "  </tbody>\n",
       "</table>\n",
       "</div>"
      ],
      "text/plain": [
       "   Unnamed: 0.1  unique_id  Unnamed: 0       date         time  \\\n",
       "0           947  120986760         947 2017-01-01  12:00:05 AM   \n",
       "\n",
       "                 date_time agency        agency_name         inquiry_name  \\\n",
       "0  2017-01-01T00:00:05.000  3-1-1  3-1-1 Call Center  Language Assistance   \n",
       "\n",
       "           brief_description          call_resolution  \\\n",
       "0  Connect to Language Line.  Transfer to City Agency   \n",
       "\n",
       "                        inquiry_with_description  \n",
       "0  Language Assistance Connect to Language Line.  "
      ]
     },
     "execution_count": 24,
     "metadata": {},
     "output_type": "execute_result"
    }
   ],
   "source": [
    "data_df.head(1)"
   ]
  },
  {
   "cell_type": "code",
   "execution_count": 25,
   "metadata": {},
   "outputs": [],
   "source": [
    "# Create a new dataframe with the cluster labels\n",
    "# Merge the original dataframe and the cluster labels dataframe on the index\n",
    "clustered_df = unique_inq_df.merge(pd.DataFrame({'cluster_label': cluster_labels}), left_index=True, right_index=True)\n",
    "\n",
    "# Merging embeddings\n",
    "clustered_df = clustered_df.merge(pd.DataFrame(umap_embeddings), left_index=True, right_index=True)\n",
    "clustered_df.rename(columns={0:'embed_0',1:'embed_1'},inplace=True)\n",
    "clustered_df = data_df.merge(clustered_df, left_on='inquiry_with_description', right_on='Inquiry_names')"
   ]
  },
  {
   "cell_type": "code",
   "execution_count": 26,
   "metadata": {},
   "outputs": [
    {
     "data": {
      "text/plain": [
       "inquiry_name                                          \n",
       "Bus or Subway - Information and Complaint                 106955\n",
       "Lost Property in a Taxi - Medallion Number Known           39934\n",
       "Buses and Subways                                          32647\n",
       "MetroCard - Information and Complaint                      29307\n",
       "Lost Property in a Taxi - Medallion Number Unknown         28169\n",
       "                                                           ...  \n",
       "Overcharge - Car Wash                                          6\n",
       "Taxi Complaint - E-Hail - Unclean Condition or Odor            5\n",
       "Taxi Complaint - E-Hail - Credit Card - Driver Refusal         3\n",
       "Electric Taxi                                                  2\n",
       "Overcharge - Cleaning of Cooling Towers                        2\n",
       "Length: 193, dtype: int64"
      ]
     },
     "execution_count": 26,
     "metadata": {},
     "output_type": "execute_result"
    }
   ],
   "source": [
    "clustered_df[clustered_df['cluster_label'] == 8][['inquiry_name']].value_counts()"
   ]
  },
  {
   "cell_type": "code",
   "execution_count": 27,
   "metadata": {},
   "outputs": [
    {
     "data": {
      "image/png": "[encoded data removed]",
      "text/plain": [
       "<Figure size 800x550 with 1 Axes>"
      ]
     },
     "metadata": {},
     "output_type": "display_data"
    }
   ],
   "source": [
    "# Count the number of data points in each cluster\n",
    "counts = clustered_df['cluster_label'] .value_counts()\n",
    "\n",
    "# Plot a histogram of the counts\n",
    "plt.bar(counts.index, counts.values)\n",
    "plt.xlabel('Cluster Label')\n",
    "plt.ylabel('Number of Calls')\n",
    "plt.title('Call volume by Cluster Label')\n",
    "plt.show()"
   ]
  },
  {
   "attachments": {},
   "cell_type": "markdown",
   "metadata": {},
   "source": [
    "Calculate the cluster centroids"
   ]
  },
  {
   "cell_type": "code",
   "execution_count": 28,
   "metadata": {},
   "outputs": [
    {
     "name": "stdout",
     "output_type": "stream",
     "text": [
      "Cluster  0 centroid text: Gas Service and Billing\n",
      "closest_agency: 0\n",
      "Cluster  1 centroid text: U.S. Postal Service Consumer Hotline\n",
      "closest_agency: USPS\n",
      "Cluster  2 centroid text: Summer School\n",
      "closest_agency: 0\n",
      "Cluster  3 centroid text: Carpool or RideMatch\n",
      "closest_agency: 0\n",
      "Cluster  4 centroid text: Reclaim a Towed Vehicle - NYPD\n",
      "closest_agency: DOF\n",
      "Cluster  5 centroid text: Waterway Complaint\n",
      "closest_agency: 0\n",
      "Cluster  6 centroid text: Neighborhood Housing Services Home Repair Program\n",
      "closest_agency: HPD\n",
      "Cluster  7 centroid text: Living Wage Increase for Subsidized Projects\n",
      "closest_agency: CHALL\n",
      "Cluster  8 centroid text: Congestion Surcharge for Taxis and For-Hire Vehicles\n",
      "closest_agency: NYSTAX\n",
      "Cluster  9 centroid text: Nurses for Pregnant Women 18 Years Old and Over\n",
      "closest_agency: DOHMH\n",
      "Cluster  10 centroid text: Fire Hydrant Lock Removal Request\n",
      "closest_agency: DEP\n",
      "Cluster  11 centroid text: Smokeless Tobacco Law Information\n",
      "closest_agency: DOHMH\n",
      "Cluster  12 centroid text: Find a Towed Vehicle - Blocking a Driveway\n",
      "closest_agency: NYPD\n",
      "Cluster  13 centroid text: Pay a Parking Ticket - By Mail\n",
      "closest_agency: DOF\n",
      "Cluster  14 centroid text: Advisory Restaurant Inspection - Existing Restaurant\n",
      "closest_agency: DOHMH\n",
      "Cluster  15 centroid text: Garbage or Recycling Bin\n",
      "closest_agency: 0\n"
     ]
    }
   ],
   "source": [
    "from sklearn.metrics.pairwise import cosine_similarity\n",
    "\n",
    "# Find the closest text to each centroid\n",
    "centroids = kmeans.cluster_centers_\n",
    "cluster_labels = kmeans.labels_\n",
    "text_data = clustered_df['inquiry_name'] # inquiry_with_description\n",
    "\n",
    "clustered_df['Centroid_text'] = 'None'\n",
    "for i in range(len(centroids)):\n",
    "    cluster_indices = np.where(cluster_labels == i)[0]\n",
    "    cluster_text = text_data.iloc[cluster_indices]\n",
    "    centroid_similarities = cosine_similarity(clustered_df[['embed_0', 'embed_1']].values, centroids[i].reshape(1, -1))#.flatten()\n",
    "    \n",
    "    # Assign the maximum similarity score to each data point\n",
    "    #clustered_df[f'similarity_to_centroid_{i}'] = centroid_similarities.max(axis=1)\n",
    "    closest_text_index = np.argmax(centroid_similarities)\n",
    "    #print(closest_text_index)\n",
    "    closest_text = text_data.iloc[closest_text_index]\n",
    "    closest_agency = clustered_df['agency'].iloc[closest_text_index]\n",
    "    print(\"Cluster \", i, \"centroid text:\", closest_text)\n",
    "    print(\"closest_agency:\", closest_agency)\n",
    "    clustered_df['Centroid_text'].loc[(clustered_df['cluster_label']==i)] = closest_text"
   ]
  },
  {
   "cell_type": "code",
   "execution_count": 29,
   "metadata": {},
   "outputs": [
    {
     "data": {
      "text/html": [
       "<div>\n",
       "<style scoped>\n",
       "    .dataframe tbody tr th:only-of-type {\n",
       "        vertical-align: middle;\n",
       "    }\n",
       "\n",
       "    .dataframe tbody tr th {\n",
       "        vertical-align: top;\n",
       "    }\n",
       "\n",
       "    .dataframe thead th {\n",
       "        text-align: right;\n",
       "    }\n",
       "</style>\n",
       "<table border=\"1\" class=\"dataframe\">\n",
       "  <thead>\n",
       "    <tr style=\"text-align: right;\">\n",
       "      <th></th>\n",
       "      <th>Unnamed: 0.1</th>\n",
       "      <th>unique_id</th>\n",
       "      <th>Unnamed: 0</th>\n",
       "      <th>date</th>\n",
       "      <th>time</th>\n",
       "      <th>date_time</th>\n",
       "      <th>agency</th>\n",
       "      <th>agency_name</th>\n",
       "      <th>inquiry_name</th>\n",
       "      <th>brief_description</th>\n",
       "      <th>call_resolution</th>\n",
       "      <th>inquiry_with_description</th>\n",
       "      <th>Inquiry_names</th>\n",
       "      <th>cluster_label</th>\n",
       "      <th>embed_0</th>\n",
       "      <th>embed_1</th>\n",
       "      <th>Centroid_text</th>\n",
       "    </tr>\n",
       "  </thead>\n",
       "  <tbody>\n",
       "    <tr>\n",
       "      <th>0</th>\n",
       "      <td>947</td>\n",
       "      <td>120986760</td>\n",
       "      <td>947</td>\n",
       "      <td>2017-01-01</td>\n",
       "      <td>12:00:05 AM</td>\n",
       "      <td>2017-01-01T00:00:05.000</td>\n",
       "      <td>3-1-1</td>\n",
       "      <td>3-1-1 Call Center</td>\n",
       "      <td>Language Assistance</td>\n",
       "      <td>Connect to Language Line.</td>\n",
       "      <td>Transfer to City Agency</td>\n",
       "      <td>Language Assistance Connect to Language Line.</td>\n",
       "      <td>Language Assistance Connect to Language Line.</td>\n",
       "      <td>3</td>\n",
       "      <td>6.773433</td>\n",
       "      <td>10.811309</td>\n",
       "      <td>Carpool or RideMatch</td>\n",
       "    </tr>\n",
       "    <tr>\n",
       "      <th>1</th>\n",
       "      <td>601</td>\n",
       "      <td>120980636</td>\n",
       "      <td>601</td>\n",
       "      <td>2017-01-01</td>\n",
       "      <td>1:48:06 AM</td>\n",
       "      <td>2017-01-01T01:48:06.000</td>\n",
       "      <td>3-1-1</td>\n",
       "      <td>3-1-1 Call Center</td>\n",
       "      <td>Language Assistance</td>\n",
       "      <td>Connect to Language Line.</td>\n",
       "      <td>Transfer to City Agency</td>\n",
       "      <td>Language Assistance Connect to Language Line.</td>\n",
       "      <td>Language Assistance Connect to Language Line.</td>\n",
       "      <td>3</td>\n",
       "      <td>6.773433</td>\n",
       "      <td>10.811309</td>\n",
       "      <td>Carpool or RideMatch</td>\n",
       "    </tr>\n",
       "  </tbody>\n",
       "</table>\n",
       "</div>"
      ],
      "text/plain": [
       "   Unnamed: 0.1  unique_id  Unnamed: 0       date         time  \\\n",
       "0           947  120986760         947 2017-01-01  12:00:05 AM   \n",
       "1           601  120980636         601 2017-01-01   1:48:06 AM   \n",
       "\n",
       "                 date_time agency        agency_name         inquiry_name  \\\n",
       "0  2017-01-01T00:00:05.000  3-1-1  3-1-1 Call Center  Language Assistance   \n",
       "1  2017-01-01T01:48:06.000  3-1-1  3-1-1 Call Center  Language Assistance   \n",
       "\n",
       "           brief_description          call_resolution  \\\n",
       "0  Connect to Language Line.  Transfer to City Agency   \n",
       "1  Connect to Language Line.  Transfer to City Agency   \n",
       "\n",
       "                        inquiry_with_description  \\\n",
       "0  Language Assistance Connect to Language Line.   \n",
       "1  Language Assistance Connect to Language Line.   \n",
       "\n",
       "                                   Inquiry_names  cluster_label   embed_0  \\\n",
       "0  Language Assistance Connect to Language Line.              3  6.773433   \n",
       "1  Language Assistance Connect to Language Line.              3  6.773433   \n",
       "\n",
       "     embed_1         Centroid_text  \n",
       "0  10.811309  Carpool or RideMatch  \n",
       "1  10.811309  Carpool or RideMatch  "
      ]
     },
     "execution_count": 29,
     "metadata": {},
     "output_type": "execute_result"
    }
   ],
   "source": [
    "clustered_df.head(2)"
   ]
  },
  {
   "cell_type": "code",
   "execution_count": 30,
   "metadata": {},
   "outputs": [],
   "source": [
    "path = 'C:/Users/manal/Desktop/Thesis/Manali-CallsPrediction/ml-generic-thesis-project-structure-main/01-raw-data'\n",
    "clustered_df.to_csv(path+'/clustered_df.csv', sep=',')"
   ]
  },
  {
   "cell_type": "code",
   "execution_count": 31,
   "metadata": {},
   "outputs": [
    {
     "data": {
      "text/html": [
       "<div>\n",
       "<style scoped>\n",
       "    .dataframe tbody tr th:only-of-type {\n",
       "        vertical-align: middle;\n",
       "    }\n",
       "\n",
       "    .dataframe tbody tr th {\n",
       "        vertical-align: top;\n",
       "    }\n",
       "\n",
       "    .dataframe thead th {\n",
       "        text-align: right;\n",
       "    }\n",
       "</style>\n",
       "<table border=\"1\" class=\"dataframe\">\n",
       "  <thead>\n",
       "    <tr style=\"text-align: right;\">\n",
       "      <th></th>\n",
       "      <th></th>\n",
       "      <th>unique_id</th>\n",
       "    </tr>\n",
       "    <tr>\n",
       "      <th>cluster_label</th>\n",
       "      <th>Centroid_text</th>\n",
       "      <th></th>\n",
       "    </tr>\n",
       "  </thead>\n",
       "  <tbody>\n",
       "    <tr>\n",
       "      <th>5</th>\n",
       "      <th>Waterway Complaint</th>\n",
       "      <td>3357428</td>\n",
       "    </tr>\n",
       "    <tr>\n",
       "      <th>7</th>\n",
       "      <th>Living Wage Increase for Subsidized Projects</th>\n",
       "      <td>2359171</td>\n",
       "    </tr>\n",
       "    <tr>\n",
       "      <th>4</th>\n",
       "      <th>Reclaim a Towed Vehicle - NYPD</th>\n",
       "      <td>2320110</td>\n",
       "    </tr>\n",
       "    <tr>\n",
       "      <th>11</th>\n",
       "      <th>Smokeless Tobacco Law Information</th>\n",
       "      <td>1670471</td>\n",
       "    </tr>\n",
       "    <tr>\n",
       "      <th>3</th>\n",
       "      <th>Carpool or RideMatch</th>\n",
       "      <td>1645582</td>\n",
       "    </tr>\n",
       "    <tr>\n",
       "      <th>12</th>\n",
       "      <th>Find a Towed Vehicle - Blocking a Driveway</th>\n",
       "      <td>1243519</td>\n",
       "    </tr>\n",
       "    <tr>\n",
       "      <th>13</th>\n",
       "      <th>Pay a Parking Ticket - By Mail</th>\n",
       "      <td>1145085</td>\n",
       "    </tr>\n",
       "    <tr>\n",
       "      <th>0</th>\n",
       "      <th>Gas Service and Billing</th>\n",
       "      <td>1085403</td>\n",
       "    </tr>\n",
       "    <tr>\n",
       "      <th>6</th>\n",
       "      <th>Neighborhood Housing Services Home Repair Program</th>\n",
       "      <td>996742</td>\n",
       "    </tr>\n",
       "    <tr>\n",
       "      <th>15</th>\n",
       "      <th>Garbage or Recycling Bin</th>\n",
       "      <td>669333</td>\n",
       "    </tr>\n",
       "    <tr>\n",
       "      <th>9</th>\n",
       "      <th>Nurses for Pregnant Women 18 Years Old and Over</th>\n",
       "      <td>603521</td>\n",
       "    </tr>\n",
       "    <tr>\n",
       "      <th>8</th>\n",
       "      <th>Congestion Surcharge for Taxis and For-Hire Vehicles</th>\n",
       "      <td>492979</td>\n",
       "    </tr>\n",
       "    <tr>\n",
       "      <th>2</th>\n",
       "      <th>Summer School</th>\n",
       "      <td>424570</td>\n",
       "    </tr>\n",
       "    <tr>\n",
       "      <th>1</th>\n",
       "      <th>U.S. Postal Service Consumer Hotline</th>\n",
       "      <td>366583</td>\n",
       "    </tr>\n",
       "    <tr>\n",
       "      <th>14</th>\n",
       "      <th>Advisory Restaurant Inspection - Existing Restaurant</th>\n",
       "      <td>143052</td>\n",
       "    </tr>\n",
       "    <tr>\n",
       "      <th>10</th>\n",
       "      <th>Fire Hydrant Lock Removal Request</th>\n",
       "      <td>81782</td>\n",
       "    </tr>\n",
       "  </tbody>\n",
       "</table>\n",
       "</div>"
      ],
      "text/plain": [
       "                                                                  unique_id\n",
       "cluster_label Centroid_text                                                \n",
       "5             Waterway Complaint                                    3357428\n",
       "7             Living Wage Increase for Subsidized Projects          2359171\n",
       "4             Reclaim a Towed Vehicle - NYPD                        2320110\n",
       "11            Smokeless Tobacco Law Information                     1670471\n",
       "3             Carpool or RideMatch                                  1645582\n",
       "12            Find a Towed Vehicle - Blocking a Driveway            1243519\n",
       "13            Pay a Parking Ticket - By Mail                        1145085\n",
       "0             Gas Service and Billing                               1085403\n",
       "6             Neighborhood Housing Services Home Repair Program      996742\n",
       "15            Garbage or Recycling Bin                               669333\n",
       "9             Nurses for Pregnant Women 18 Years Old and Over        603521\n",
       "8             Congestion Surcharge for Taxis and For-Hire Veh...     492979\n",
       "2             Summer School                                          424570\n",
       "1             U.S. Postal Service Consumer Hotline                   366583\n",
       "14            Advisory Restaurant Inspection - Existing Resta...     143052\n",
       "10            Fire Hydrant Lock Removal Request                       81782"
      ]
     },
     "execution_count": 31,
     "metadata": {},
     "output_type": "execute_result"
    }
   ],
   "source": [
    "clusters_df = pd.DataFrame(clustered_df.groupby(['cluster_label','Centroid_text']).count()[['unique_id']]).sort_values(by = 'unique_id',ascending=False)\n",
    "clusters_df"
   ]
  }
 ],
 "metadata": {
  "kernelspec": {
   "display_name": "Python 3",
   "language": "python",
   "name": "python3"
  },
  "language_info": {
   "codemirror_mode": {
    "name": "ipython",
    "version": 3
   },
   "file_extension": ".py",
   "mimetype": "text/x-python",
   "name": "python",
   "nbconvert_exporter": "python",
   "pygments_lexer": "ipython3",
   "version": "3.10.10"
  },
  "orig_nbformat": 4,
  "vscode": {
   "interpreter": {
    "hash": "e22392c40c7cb6c396de160ed058d6920a0b997f77b4c0ea375a2215afb9fb87"
   }
  }
 },
 "nbformat": 4,
 "nbformat_minor": 2
}
